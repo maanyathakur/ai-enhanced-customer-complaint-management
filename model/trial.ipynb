{
 "cells": [
  {
   "cell_type": "code",
   "execution_count": 1,
   "metadata": {},
   "outputs": [],
   "source": [
    "import numpy as np\n",
    "import pandas as pd\n",
    "import matplotlib.pyplot as plt"
   ]
  },
  {
   "cell_type": "code",
   "execution_count": 2,
   "metadata": {},
   "outputs": [],
   "source": [
    "df=pd.read_csv('data.csv')"
   ]
  },
  {
   "cell_type": "code",
   "execution_count": 10,
   "metadata": {},
   "outputs": [],
   "source": [
    "#select only two columns and make new df\n",
    "df2=df[['review_text','review_rating']]"
   ]
  },
  {
   "cell_type": "code",
   "execution_count": 31,
   "metadata": {},
   "outputs": [
    {
     "data": {
      "text/plain": [
       "(2501, 2)"
      ]
     },
     "execution_count": 31,
     "metadata": {},
     "output_type": "execute_result"
    }
   ],
   "source": [
    "df2.shape"
   ]
  },
  {
   "cell_type": "code",
   "execution_count": 64,
   "metadata": {},
   "outputs": [],
   "source": [
    "import requests\n",
    "\n",
    "\n",
    "inputs=[]\n",
    "inputstosend=[]\n",
    "responses=[]\n",
    "start=0\n",
    "for col in df2['review_text']:\n",
    "    inputs.append(col)\n",
    "\n",
    "#make list containing 100 each\n",
    "for i in range(0,len(inputs),100):\n",
    "    inputstosend.append(inputs[i:i+100])\n",
    "\n",
    "#1024 dimentional vector\n",
    "url = \"https://api.ai21.com/studio/v1/embed\"\n",
    "\n",
    "for i in range(len(inputstosend)):\n",
    "    payload = { \"texts\": inputstosend[i] }\n",
    "    headers = {\n",
    "        \"accept\": \"application/json\",\n",
    "        \"content-type\": \"application/json\",\n",
    "        \"Authorization\": f\"BEARER {ai21apikey}\"\n",
    "    }\n",
    "\n",
    "    response = requests.post(url, json=payload, headers=headers)\n",
    "    responses.append(response.json())\n",
    "\n",
    "# payload = { \"texts\": [\"hi\",\"hello\"] }\n",
    "# headers = {\n",
    "#     \"accept\": \"application/json\",\n",
    "#     \"content-type\": \"application/json\",\n",
    "#     \"Authorization\": f\"BEARER {ai21apikey}\"\n",
    "# }\n",
    "\n",
    "# response = requests.post(url, json=payload, headers=headers)\n",
    "\n",
    "\n",
    "# print(response.json()['results'][0]['embedding'])\n",
    "# print(response.json()['results'][1]['embedding'])\n"
   ]
  },
  {
   "cell_type": "code",
   "execution_count": 71,
   "metadata": {},
   "outputs": [],
   "source": [
    "#make df from the embeddings\n",
    "responsemmbeddings=[]\n",
    "for i in range(len(responses)):\n",
    "    for j in range(len(responses[i]['results'])):\n",
    "        responsemmbeddings.append(responses[i]['results'][j]['embedding'])\n",
    "\n"
   ]
  },
  {
   "cell_type": "code",
   "execution_count": 5,
   "metadata": {},
   "outputs": [],
   "source": [
    "responsemmbeddingsdf=pd.read_csv('embeddings.csv')"
   ]
  },
  {
   "cell_type": "code",
   "execution_count": 6,
   "metadata": {},
   "outputs": [
    {
     "data": {
      "text/plain": [
       "(2501, 1025)"
      ]
     },
     "execution_count": 6,
     "metadata": {},
     "output_type": "execute_result"
    }
   ],
   "source": [
    "responsemmbeddingsdf.shape"
   ]
  },
  {
   "cell_type": "code",
   "execution_count": 7,
   "metadata": {},
   "outputs": [],
   "source": [
    "import tensorflow as tf\n",
    "from tensorflow.keras import models, layers\n",
    "import sklearn\n",
    "from sklearn.model_selection import train_test_split\n"
   ]
  },
  {
   "cell_type": "code",
   "execution_count": 8,
   "metadata": {},
   "outputs": [],
   "source": [
    "Y=responsemmbeddingsdf['rating']\n",
    "X=responsemmbeddingsdf.drop(columns=['rating'])\n",
    "X_train, X_test, y_train, y_test = train_test_split(X, Y, test_size=0.2, random_state=42)\n"
   ]
  },
  {
   "cell_type": "code",
   "execution_count": 9,
   "metadata": {},
   "outputs": [
    {
     "data": {
      "text/plain": [
       "array([5, 4, 3, 1, 2], dtype=int64)"
      ]
     },
     "execution_count": 9,
     "metadata": {},
     "output_type": "execute_result"
    }
   ],
   "source": [
    "Y.unique()"
   ]
  },
  {
   "cell_type": "code",
   "execution_count": 10,
   "metadata": {},
   "outputs": [],
   "source": [
    "model = models.Sequential()\n",
    "model.add(layers.Dense(512, activation='relu',input_shape=(X_train.shape[1],)))\n",
    "model.add(layers.Dense(1024, activation='relu'))\n",
    "model.add(layers.Dense(2048, activation='relu'))\n",
    "model.add(layers.Dense(128, activation='relu'))\n",
    "model.add(layers.Dense(5, activation='softmax'))"
   ]
  },
  {
   "cell_type": "code",
   "execution_count": 11,
   "metadata": {},
   "outputs": [
    {
     "name": "stdout",
     "output_type": "stream",
     "text": [
      "Model: \"sequential\"\n",
      "_________________________________________________________________\n",
      " Layer (type)                Output Shape              Param #   \n",
      "=================================================================\n",
      " dense (Dense)               (None, 512)               524800    \n",
      "                                                                 \n",
      " dense_1 (Dense)             (None, 1024)              525312    \n",
      "                                                                 \n",
      " dense_2 (Dense)             (None, 2048)              2099200   \n",
      "                                                                 \n",
      " dense_3 (Dense)             (None, 128)               262272    \n",
      "                                                                 \n",
      " dense_4 (Dense)             (None, 5)                 645       \n",
      "                                                                 \n",
      "=================================================================\n",
      "Total params: 3,412,229\n",
      "Trainable params: 3,412,229\n",
      "Non-trainable params: 0\n",
      "_________________________________________________________________\n"
     ]
    }
   ],
   "source": [
    "model.summary()"
   ]
  },
  {
   "cell_type": "code",
   "execution_count": 12,
   "metadata": {},
   "outputs": [],
   "source": [
    "model.compile(optimizer='adam',      \n",
    "              loss='sparse_categorical_crossentropy',\n",
    "              metrics=['accuracy'])"
   ]
  },
  {
   "cell_type": "code",
   "execution_count": 13,
   "metadata": {},
   "outputs": [],
   "source": [
    "# Convert the labels to be within the valid range\n",
    "y_train = y_train - 1\n",
    "y_test = y_test - 1"
   ]
  },
  {
   "cell_type": "code",
   "execution_count": 14,
   "metadata": {},
   "outputs": [
    {
     "name": "stdout",
     "output_type": "stream",
     "text": [
      "Epoch 1/10\n",
      "63/63 [==============================] - 4s 56ms/step - loss: 0.7742 - accuracy: 0.7420 - val_loss: 0.6214 - val_accuracy: 0.7565\n",
      "Epoch 2/10\n",
      "63/63 [==============================] - 3s 45ms/step - loss: 0.6042 - accuracy: 0.7790 - val_loss: 0.5981 - val_accuracy: 0.7844\n",
      "Epoch 3/10\n",
      "63/63 [==============================] - 3s 44ms/step - loss: 0.5533 - accuracy: 0.7870 - val_loss: 0.6202 - val_accuracy: 0.7844\n",
      "Epoch 4/10\n",
      "63/63 [==============================] - 3s 50ms/step - loss: 0.5167 - accuracy: 0.8010 - val_loss: 0.5738 - val_accuracy: 0.7625\n",
      "Epoch 5/10\n",
      "63/63 [==============================] - 3s 50ms/step - loss: 0.4756 - accuracy: 0.8175 - val_loss: 0.5276 - val_accuracy: 0.7884\n",
      "Epoch 6/10\n",
      "63/63 [==============================] - 3s 45ms/step - loss: 0.4615 - accuracy: 0.8225 - val_loss: 0.5968 - val_accuracy: 0.8064\n",
      "Epoch 7/10\n",
      "63/63 [==============================] - 3s 45ms/step - loss: 0.4450 - accuracy: 0.8335 - val_loss: 0.5137 - val_accuracy: 0.8124\n",
      "Epoch 8/10\n",
      "63/63 [==============================] - 3s 45ms/step - loss: 0.3826 - accuracy: 0.8620 - val_loss: 0.5604 - val_accuracy: 0.8124\n",
      "Epoch 9/10\n",
      "63/63 [==============================] - 3s 44ms/step - loss: 0.3966 - accuracy: 0.8450 - val_loss: 0.5746 - val_accuracy: 0.8283\n",
      "Epoch 10/10\n",
      "63/63 [==============================] - 3s 45ms/step - loss: 0.3561 - accuracy: 0.8635 - val_loss: 0.4995 - val_accuracy: 0.8283\n"
     ]
    }
   ],
   "source": [
    "\n",
    "\n",
    "# Retrain the model with the updated labels\n",
    "trained_model = model.fit(X_train, y_train, epochs=10, batch_size=32, validation_data=(X_test, y_test))"
   ]
  },
  {
   "cell_type": "code",
   "execution_count": 18,
   "metadata": {},
   "outputs": [
    {
     "data": {
      "image/png": "[encoded data removed]",
      "text/plain": [
       "<Figure size 640x480 with 1 Axes>"
      ]
     },
     "metadata": {},
     "output_type": "display_data"
    }
   ],
   "source": [
    "#plot accuray and loss\n",
    "plt.plot(trained_model.history['accuracy'])\n",
    "plt.plot(trained_model.history['val_accuracy'])\n",
    "plt.title('Model accuracy')\n",
    "plt.ylabel('Accuracy')\n",
    "plt.xlabel('Epoch')\n",
    "plt.legend(['Train', 'Test'], loc='upper left')\n",
    "plt.show()"
   ]
  },
  {
   "cell_type": "code",
   "execution_count": 15,
   "metadata": {},
   "outputs": [],
   "source": [
    "#save as h5\n",
    "model.save('reviewsmodel.h5')\n"
   ]
  }
 ],
 "metadata": {
  "kernelspec": {
   "display_name": "Python 3",
   "language": "python",
   "name": "python3"
  },
  "language_info": {
   "codemirror_mode": {
    "name": "ipython",
    "version": 3
   },
   "file_extension": ".py",
   "mimetype": "text/x-python",
   "name": "python",
   "nbconvert_exporter": "python",
   "pygments_lexer": "ipython3",
   "version": "3.10.8"
  }
 },
 "nbformat": 4,
 "nbformat_minor": 2
}
